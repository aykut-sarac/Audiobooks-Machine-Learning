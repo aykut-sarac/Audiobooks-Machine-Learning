{
 "cells": [
  {
   "cell_type": "markdown",
   "metadata": {},
   "source": [
    "# Audiobooks"
   ]
  },
  {
   "cell_type": "markdown",
   "metadata": {},
   "source": [
    "You are given data from an Audiobook app. Logically, it relates only to the audio versions of books. Each customer in the database has made a purchase at least once, that's why he/she is in the database. We want to create a machine learning algorithm based on our available data that can predict if a customer will buy again from the Audiobook company.\n",
    "\n",
    "The main idea is that if a customer has a low probability of coming back, there is no reason to spend any money on advertizing to him/her. If we can focus our efforts ONLY on customers that are likely to convert again, we can make great savings. Moreover, this model can identify the most important metrics for a customer to come back again. Identifying new customers creates value and growth opportunities.\n",
    "\n",
    "You have a .csv summarizing the data. There are several variables: Customer ID, Book length in mins_avg (average of all purchases), Book length in minutes_sum (sum of all purchases), Price Paid_avg (average of all purchases), Price paid_sum (sum of all purchases), Review (a Boolean variable), Review (out of 10), Total minutes listened, Completion (from 0 to 1), Support requests (number), and Last visited minus purchase date (in days).\n",
    "\n",
    "So these are the inputs (excluding customer ID, as it is completely arbitrary. It's more like a name, than a number).\n",
    "\n",
    "The targets are a Boolean variable (so 0, or 1). We are taking a period of 2 years in our inputs, and the next 6 months as targets. So, in fact, we are predicting if: based on the last 2 years of activity and engagement, a customer will convert in the next 6 months. 6 months sounds like a reasonable time. If they don't convert after 6 months, chances are they've gone to a competitor or didn't like the Audiobook way of digesting information.\n",
    "\n",
    "The task is simple: create a machine learning algorithm, which is able to predict if a customer will buy again.\n",
    "\n",
    "This is a classification problem with two classes: won't buy and will buy, represented by 0s and 1s.\n",
    "\n",
    "Good luck!"
   ]
  },
  {
   "cell_type": "markdown",
   "metadata": {},
   "source": [
    "## Import Libraries"
   ]
  },
  {
   "cell_type": "code",
   "execution_count": 3,
   "metadata": {},
   "outputs": [],
   "source": [
    "import numpy as np\n",
    "import tensorflow as tf\n"
   ]
  },
  {
   "cell_type": "markdown",
   "metadata": {},
   "source": [
    "## Data"
   ]
  },
  {
   "cell_type": "code",
   "execution_count": 4,
   "metadata": {},
   "outputs": [],
   "source": [
    "# Extract all 3 npz files and assign temporary variable\n",
    "temp_npz = np.load('Audiobooks_data_train.npz')\n",
    "# Ensure all inputs are floats\n",
    "train_inputs = temp_npz['inputs'].astype(np.float)\n",
    "# Ensure all targets are integers(0,1)\n",
    "train_targets = temp_npz['targets'].astype(np.int)\n",
    "\n",
    "#Do the same for validation and test data\n",
    "temp_npz = np.load('Audiobooks_data_validation.npz')\n",
    "validation_inputs  = temp_npz['inputs'].astype(np.float) \n",
    "validation_targets = temp_npz['targets'].astype(np.int)\n",
    "\n",
    "temp_npz = np.load('Audiobooks_data_test.npz')\n",
    "test_inputs  = temp_npz['inputs'].astype(np.float) \n",
    "test_targets = temp_npz['targets'].astype(np.int)"
   ]
  },
  {
   "cell_type": "markdown",
   "metadata": {},
   "source": [
    "## Model"
   ]
  },
  {
   "cell_type": "code",
   "execution_count": 6,
   "metadata": {},
   "outputs": [
    {
     "name": "stdout",
     "output_type": "stream",
     "text": [
      "Train on 3579 samples, validate on 447 samples\n",
      "Epoch 1/100\n",
      "3579/3579 - 1s - loss: 0.5332 - accuracy: 0.7890 - val_loss: 0.4171 - val_accuracy: 0.8568\n",
      "Epoch 2/100\n",
      "3579/3579 - 0s - loss: 0.3707 - accuracy: 0.8762 - val_loss: 0.3369 - val_accuracy: 0.8725\n",
      "Epoch 3/100\n",
      "3579/3579 - 0s - loss: 0.3196 - accuracy: 0.8868 - val_loss: 0.3137 - val_accuracy: 0.8770\n",
      "Epoch 4/100\n",
      "3579/3579 - 0s - loss: 0.2991 - accuracy: 0.8916 - val_loss: 0.3011 - val_accuracy: 0.8770\n",
      "Epoch 5/100\n",
      "3579/3579 - 0s - loss: 0.2864 - accuracy: 0.8938 - val_loss: 0.2950 - val_accuracy: 0.8814\n",
      "Epoch 6/100\n",
      "3579/3579 - 0s - loss: 0.2754 - accuracy: 0.8975 - val_loss: 0.2878 - val_accuracy: 0.8837\n",
      "Epoch 7/100\n",
      "3579/3579 - 0s - loss: 0.2685 - accuracy: 0.8991 - val_loss: 0.2834 - val_accuracy: 0.8859\n",
      "Epoch 8/100\n",
      "3579/3579 - 0s - loss: 0.2625 - accuracy: 0.9000 - val_loss: 0.2838 - val_accuracy: 0.8904\n",
      "Epoch 9/100\n",
      "3579/3579 - 0s - loss: 0.2562 - accuracy: 0.9030 - val_loss: 0.2789 - val_accuracy: 0.8881\n",
      "Epoch 10/100\n",
      "3579/3579 - 0s - loss: 0.2534 - accuracy: 0.9022 - val_loss: 0.2764 - val_accuracy: 0.8881\n",
      "Epoch 11/100\n",
      "3579/3579 - 0s - loss: 0.2493 - accuracy: 0.9044 - val_loss: 0.2801 - val_accuracy: 0.8904\n",
      "Epoch 12/100\n",
      "3579/3579 - 0s - loss: 0.2480 - accuracy: 0.9039 - val_loss: 0.2776 - val_accuracy: 0.8904\n"
     ]
    },
    {
     "data": {
      "text/plain": [
       "<tensorflow.python.keras.callbacks.History at 0x1b24edf9f08>"
      ]
     },
     "execution_count": 6,
     "metadata": {},
     "output_type": "execute_result"
    }
   ],
   "source": [
    "# there are 10 inputs and 2 outputs\n",
    "input_size = 10\n",
    "output_size = 2\n",
    "# hidden layer\n",
    "hidden_layer_size = 50\n",
    "\n",
    "#Model\n",
    "model = tf.keras.Sequential([\n",
    "    # tf.keras.layers.Dense is basically implementing: output = activation(dot(input, weight) + bias)\n",
    "    # it takes several arguments, the hidden_layer_size and the activation function\n",
    "    tf.keras.layers.Dense(hidden_layer_size, activation='relu'), # 1st hidden layer\n",
    "    tf.keras.layers.Dense(hidden_layer_size, activation='relu'), # 2nd hidden layer\n",
    "    # the final layer is no different with softmax\n",
    "    tf.keras.layers.Dense(output_size, activation='softmax') # output layer\n",
    "])\n",
    "\n",
    "#Optimizer and loss function\n",
    "model.compile(optimizer='adam', loss='sparse_categorical_crossentropy', metrics=['accuracy'])\n",
    "\n",
    "#Training\n",
    "# set the batch size\n",
    "batch_size = 100\n",
    "\n",
    "# set a maximum number of training epochs\n",
    "max_epochs = 100\n",
    "\n",
    "# set an early stopping mechanism\n",
    "# let's set patience=2, to be a bit tolerant against random validation loss increases\n",
    "early_stopping = tf.keras.callbacks.EarlyStopping(patience=2)\n",
    "\n",
    "# fit the model\n",
    "# note that this time the train, validation and test data are not iterable\n",
    "model.fit(train_inputs, # train inputs\n",
    "          train_targets, # train targets\n",
    "          batch_size=batch_size, # batch size\n",
    "          epochs=max_epochs, # epochs that we will train for (assuming early stopping doesn't kick in)\n",
    "          # callbacks are functions called by a task when a task is completed\n",
    "          # task here is to check if val_loss is increasing\n",
    "          callbacks=[early_stopping], # early stopping\n",
    "          validation_data=(validation_inputs, validation_targets), # validation data\n",
    "          verbose = 2 # making sure we get enough information about the training process\n",
    "          )  \n"
   ]
  },
  {
   "cell_type": "markdown",
   "metadata": {},
   "source": [
    "## Test the model"
   ]
  },
  {
   "cell_type": "code",
   "execution_count": 7,
   "metadata": {},
   "outputs": [
    {
     "name": "stdout",
     "output_type": "stream",
     "text": [
      "448/448 [==============================] - 0s 290us/sample - loss: 0.2497 - accuracy: 0.8996\n"
     ]
    }
   ],
   "source": [
    "test_loss, test_accuracy = model.evaluate(test_inputs, test_targets)"
   ]
  },
  {
   "cell_type": "code",
   "execution_count": 8,
   "metadata": {},
   "outputs": [
    {
     "name": "stdout",
     "output_type": "stream",
     "text": [
      "\n",
      "Test loss: 0.25. Test accuracy: 89.96%\n"
     ]
    }
   ],
   "source": [
    "print('\\nTest loss: {0:.2f}. Test accuracy: {1:.2f}%'.format(test_loss, test_accuracy*100.))"
   ]
  },
  {
   "cell_type": "markdown",
   "metadata": {},
   "source": [
    "### The final test accuracy is around 90%\n",
    "### !Note that each time the code is rerun, there will be DIFFERENT ACCURACY because each training is different."
   ]
  },
  {
   "cell_type": "code",
   "execution_count": null,
   "metadata": {},
   "outputs": [],
   "source": []
  }
 ],
 "metadata": {
  "kernelspec": {
   "display_name": "Python [conda env:TF2.0]",
   "language": "python",
   "name": "conda-env-TF2.0-py"
  },
  "language_info": {
   "codemirror_mode": {
    "name": "ipython",
    "version": 3
   },
   "file_extension": ".py",
   "mimetype": "text/x-python",
   "name": "python",
   "nbconvert_exporter": "python",
   "pygments_lexer": "ipython3",
   "version": "3.7.6"
  }
 },
 "nbformat": 4,
 "nbformat_minor": 4
}
